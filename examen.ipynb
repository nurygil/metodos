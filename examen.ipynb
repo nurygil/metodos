{
 "cells": [
  {
   "cell_type": "code",
   "execution_count": 23,
   "metadata": {},
   "outputs": [],
   "source": [
    "import numpy as np\n",
    "import math as mt\n",
    "import matplotlib.pyplot as plt"
   ]
  },
  {
   "cell_type": "code",
   "execution_count": 49,
   "metadata": {},
   "outputs": [],
   "source": [
    "def gf(x):\n",
    "    f=10-(20*(np.e**(-0.2*x)-np.e**(-0.75*x)))\n",
    "    return(f)\n",
    "\n",
    "def f(x):\n",
    "    df=4*np.e**(-0.2*x) - 15*np.e**(-0.75*x)\n",
    "    return df\n",
    "\n",
    "def df(x):\n",
    "    return -0.2*4*np.e**(-0.2*x) + 0.75* 15*np.e**(-0.75*x)\n"
   ]
  },
  {
   "cell_type": "code",
   "execution_count": 50,
   "metadata": {},
   "outputs": [],
   "source": [
    "def newton(xo,epsilon):\n",
    "    for i in range(100):\n",
    "        fx=f(xo)\n",
    "        dfx=df(xo)\n",
    "        x=xo - (fx/dfx)\n",
    "        if np.abs(fx)<=epsilon:\n",
    "            break\n",
    "        else:\n",
    "            xo=x\n",
    "        print(i,x,fx)\n",
    "    return x,fx"
   ]
  },
  {
   "cell_type": "code",
   "execution_count": 51,
   "metadata": {},
   "outputs": [
    {
     "name": "stdout",
     "output_type": "stream",
     "text": [
      "0 1.0526315789473686 -11.0\n",
      "1 1.8531634591529111 -3.5706249177878338\n",
      "2 2.2866399386839 -0.9754158161996478\n",
      "3 2.3970424788247264 -0.1676191295760905\n"
     ]
    },
    {
     "data": {
      "text/plain": [
       "(2.4031745173911365, -0.008391218580555027)"
      ]
     },
     "execution_count": 51,
     "metadata": {},
     "output_type": "execute_result"
    }
   ],
   "source": [
    "newton(0,0.01)"
   ]
  },
  {
   "cell_type": "code",
   "execution_count": 39,
   "metadata": {},
   "outputs": [
    {
     "data": {
      "text/plain": [
       "2.0895552232670944"
      ]
     },
     "execution_count": 39,
     "metadata": {},
     "output_type": "execute_result"
    }
   ],
   "source": [
    "f(4.076)"
   ]
  },
  {
   "cell_type": "code",
   "execution_count": 53,
   "metadata": {},
   "outputs": [],
   "source": [
    "def bisec(a,b,epsilon):\n",
    "\n",
    "    for i in range(100):\n",
    "        \n",
    "        x=0.5*(a+b)\n",
    "        fa=f(a)\n",
    "        fx=f(x)\n",
    "        \n",
    "        if np.abs(fx)<=epsilon:\n",
    "            break\n",
    "        \n",
    "        else:\n",
    "            if fa*fx<0.0:\n",
    "                a=a\n",
    "                b=x\n",
    "            else:\n",
    "                a=x\n",
    "                b=b\n",
    "        print (i,x,fx)\n",
    "    return x,fx\n",
    "        \n",
    "        "
   ]
  },
  {
   "cell_type": "code",
   "execution_count": 54,
   "metadata": {},
   "outputs": [],
   "source": [
    "def f(x):\n",
    "    a=(np.sqrt(2*9.8*x)*np.tanh(2.5*np.sqrt(2*9.8*x)/8)) - 5\n",
    "    return a"
   ]
  },
  {
   "cell_type": "code",
   "execution_count": 55,
   "metadata": {},
   "outputs": [
    {
     "name": "stdout",
     "output_type": "stream",
     "text": [
      "0 1.0 -1.0964068791290869\n",
      "1 1.5 0.06815817646493105\n",
      "2 1.25 -0.4796168606326754\n",
      "3 1.375 -0.19823875227664356\n",
      "4 1.4375 -0.06328715715833688\n",
      "5 1.46875 0.0028600215216947333\n",
      "6 1.453125 -0.030105766821934665\n",
      "7 1.4609375 -0.013596134455771569\n",
      "8 1.46484375 -0.0053613981660038945\n",
      "9 1.466796875 -0.0012490270118057367\n",
      "10 1.4677734375 0.0008059121754149245\n",
      "11 1.46728515625 -0.0002214536372315834\n",
      "12 1.467529296875 0.0002922552079729357\n"
     ]
    },
    {
     "data": {
      "text/plain": [
       "(1.4674072265625, 3.5407270885023934e-05)"
      ]
     },
     "execution_count": 55,
     "metadata": {},
     "output_type": "execute_result"
    }
   ],
   "source": [
    "bisec(0,2,1e-4)"
   ]
  },
  {
   "cell_type": "code",
   "execution_count": 60,
   "metadata": {},
   "outputs": [
    {
     "data": {
      "image/png": "[encoded data removed]",
      "text/plain": [
       "<Figure size 432x288 with 1 Axes>"
      ]
     },
     "metadata": {},
     "output_type": "display_data"
    }
   ],
   "source": [
    "x=np.linspace(0,2,100)\n",
    "plt.plot(x,f(x))\n",
    "plt.vlines(1.4674,-5,1)\n",
    "plt.hlines(0,0,2)\n",
    "plt.grid()"
   ]
  },
  {
   "cell_type": "code",
   "execution_count": null,
   "metadata": {},
   "outputs": [],
   "source": []
  },
  {
   "cell_type": "code",
   "execution_count": null,
   "metadata": {},
   "outputs": [],
   "source": []
  },
  {
   "cell_type": "code",
   "execution_count": null,
   "metadata": {},
   "outputs": [],
   "source": []
  },
  {
   "cell_type": "code",
   "execution_count": null,
   "metadata": {},
   "outputs": [],
   "source": []
  },
  {
   "cell_type": "code",
   "execution_count": 84,
   "metadata": {},
   "outputs": [
    {
     "data": {
      "image/png": "[encoded data removed]",
      "text/plain": [
       "<Figure size 432x288 with 1 Axes>"
      ]
     },
     "metadata": {},
     "output_type": "display_data"
    }
   ],
   "source": [
    "x=np.linspace(0,5,100)\n",
    "plt.plot(x,f(x))\n",
    "plt.plot(x,ff(x))\n",
    "plt.grid()"
   ]
  },
  {
   "cell_type": "code",
   "execution_count": null,
   "metadata": {},
   "outputs": [],
   "source": []
  },
  {
   "cell_type": "code",
   "execution_count": null,
   "metadata": {},
   "outputs": [],
   "source": []
  }
 ],
 "metadata": {
  "kernelspec": {
   "display_name": "Python 3",
   "language": "python",
   "name": "python3"
  },
  "language_info": {
   "codemirror_mode": {
    "name": "ipython",
    "version": 3
   },
   "file_extension": ".py",
   "mimetype": "text/x-python",
   "name": "python",
   "nbconvert_exporter": "python",
   "pygments_lexer": "ipython3",
   "version": "3.6.4"
  }
 },
 "nbformat": 4,
 "nbformat_minor": 2
}
